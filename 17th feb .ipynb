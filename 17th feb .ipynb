{
 "cells": [
  {
   "cell_type": "raw",
   "id": "17d4fa95",
   "metadata": {},
   "source": [
    "chacek if a number is prime?\n",
    "\n",
    "12\n",
    "1,2,3...,12\n",
    "\n",
    "12/1==0\n",
    "12/2==0\n",
    "12/3==0\n",
    "\n",
    "\n",
    "12/12==\n",
    "\n",
    "13\n",
    "\n",
    "1,13"
   ]
  },
  {
   "cell_type": "code",
   "execution_count": 5,
   "id": "fafb81a3",
   "metadata": {},
   "outputs": [
    {
     "name": "stdout",
     "output_type": "stream",
     "text": [
      "enter any number: 13\n"
     ]
    }
   ],
   "source": [
    "x=int(input('enter any number: '))"
   ]
  },
  {
   "cell_type": "code",
   "execution_count": 6,
   "id": "38258f7d",
   "metadata": {},
   "outputs": [
    {
     "data": {
      "text/plain": [
       "13"
      ]
     },
     "execution_count": 6,
     "metadata": {},
     "output_type": "execute_result"
    }
   ],
   "source": [
    "x"
   ]
  },
  {
   "cell_type": "code",
   "execution_count": 17,
   "id": "1ef89781",
   "metadata": {},
   "outputs": [],
   "source": [
    "factors_cnt=0\n"
   ]
  },
  {
   "cell_type": "code",
   "execution_count": 19,
   "id": "2a35ef17",
   "metadata": {},
   "outputs": [
    {
     "name": "stdout",
     "output_type": "stream",
     "text": [
      "not primme\n"
     ]
    }
   ],
   "source": [
    "for i in range(1,x+1):\n",
    "     # print(i)\n",
    "    #print(x%i==0)\n",
    "    if (x%i==0):\n",
    "        factors_cnt=factors_cnt+1\n",
    "if  factors_cnt==2:\n",
    "    print('number is prime')\n",
    "else:\n",
    "    print('not primme')\n",
    "   # print(i)\n",
    "    #print(x%i==0)"
   ]
  },
  {
   "cell_type": "code",
   "execution_count": null,
   "id": "a4877e9f",
   "metadata": {},
   "outputs": [],
   "source": [
    "13%1 ==0\n",
    "13%2 ==0\n",
    ".\n",
    ".\n",
    ".\n",
    "13%13==0"
   ]
  },
  {
   "cell_type": "code",
   "execution_count": null,
   "id": "9465ef9b",
   "metadata": {},
   "outputs": [],
   "source": []
  },
  {
   "cell_type": "code",
   "execution_count": 22,
   "id": "008ce50d",
   "metadata": {},
   "outputs": [
    {
     "data": {
      "text/plain": [
       "15.811388300841896"
      ]
     },
     "execution_count": 22,
     "metadata": {},
     "output_type": "execute_result"
    }
   ],
   "source": [
    "import math\n",
    "math.sqrt(250)"
   ]
  },
  {
   "cell_type": "code",
   "execution_count": 34,
   "id": "0d538740",
   "metadata": {},
   "outputs": [],
   "source": [
    "#l=[1,2,6,3,2,1,5,3,6,4,3,2,3,1]\n",
    "l=[1,2,1,1,1,1,1,1,1]"
   ]
  },
  {
   "cell_type": "code",
   "execution_count": 25,
   "id": "056cf30e",
   "metadata": {
    "scrolled": true
   },
   "outputs": [
    {
     "data": {
      "text/plain": [
       "['__add__',\n",
       " '__class__',\n",
       " '__class_getitem__',\n",
       " '__contains__',\n",
       " '__delattr__',\n",
       " '__delitem__',\n",
       " '__dir__',\n",
       " '__doc__',\n",
       " '__eq__',\n",
       " '__format__',\n",
       " '__ge__',\n",
       " '__getattribute__',\n",
       " '__getitem__',\n",
       " '__gt__',\n",
       " '__hash__',\n",
       " '__iadd__',\n",
       " '__imul__',\n",
       " '__init__',\n",
       " '__init_subclass__',\n",
       " '__iter__',\n",
       " '__le__',\n",
       " '__len__',\n",
       " '__lt__',\n",
       " '__mul__',\n",
       " '__ne__',\n",
       " '__new__',\n",
       " '__reduce__',\n",
       " '__reduce_ex__',\n",
       " '__repr__',\n",
       " '__reversed__',\n",
       " '__rmul__',\n",
       " '__setattr__',\n",
       " '__setitem__',\n",
       " '__sizeof__',\n",
       " '__str__',\n",
       " '__subclasshook__',\n",
       " 'append',\n",
       " 'clear',\n",
       " 'copy',\n",
       " 'count',\n",
       " 'extend',\n",
       " 'index',\n",
       " 'insert',\n",
       " 'pop',\n",
       " 'remove',\n",
       " 'reverse',\n",
       " 'sort']"
      ]
     },
     "execution_count": 25,
     "metadata": {},
     "output_type": "execute_result"
    }
   ],
   "source": [
    "dir(l)"
   ]
  },
  {
   "cell_type": "code",
   "execution_count": 26,
   "id": "0734d5a2",
   "metadata": {},
   "outputs": [
    {
     "data": {
      "text/plain": [
       "3"
      ]
     },
     "execution_count": 26,
     "metadata": {},
     "output_type": "execute_result"
    }
   ],
   "source": [
    "l.count(1)"
   ]
  },
  {
   "cell_type": "code",
   "execution_count": 28,
   "id": "c0fc0bf8",
   "metadata": {},
   "outputs": [
    {
     "data": {
      "text/plain": [
       "3"
      ]
     },
     "execution_count": 28,
     "metadata": {},
     "output_type": "execute_result"
    }
   ],
   "source": [
    "l.count(2)"
   ]
  },
  {
   "cell_type": "code",
   "execution_count": null,
   "id": "65f2333a",
   "metadata": {},
   "outputs": [],
   "source": [
    "1:3\n",
    "2:3\n",
    "3:4"
   ]
  },
  {
   "cell_type": "code",
   "execution_count": 29,
   "id": "ad069aa8",
   "metadata": {},
   "outputs": [],
   "source": [
    "d={}"
   ]
  },
  {
   "cell_type": "code",
   "execution_count": 30,
   "id": "78105355",
   "metadata": {},
   "outputs": [
    {
     "data": {
      "text/plain": [
       "dict"
      ]
     },
     "execution_count": 30,
     "metadata": {},
     "output_type": "execute_result"
    }
   ],
   "source": [
    "type(d)"
   ]
  },
  {
   "cell_type": "code",
   "execution_count": 45,
   "id": "be5cf557",
   "metadata": {},
   "outputs": [],
   "source": [
    "for i in l :\n",
    "    d[i]=l.count(i)"
   ]
  },
  {
   "cell_type": "code",
   "execution_count": 32,
   "id": "fc1ff697",
   "metadata": {},
   "outputs": [
    {
     "data": {
      "text/plain": [
       "{1: 3, 2: 3, 6: 2, 3: 4, 5: 1, 4: 1}"
      ]
     },
     "execution_count": 32,
     "metadata": {},
     "output_type": "execute_result"
    }
   ],
   "source": [
    "d"
   ]
  },
  {
   "cell_type": "code",
   "execution_count": 46,
   "id": "2451edc9",
   "metadata": {},
   "outputs": [],
   "source": [
    "seen_numbers=[]"
   ]
  },
  {
   "cell_type": "code",
   "execution_count": 47,
   "id": "94cbc186",
   "metadata": {},
   "outputs": [],
   "source": [
    "for i in l :\n",
    "    if i not in seen_numbers:\n",
    "        d[i]=l.count(i)\n",
    "        seen_numbers.append(i)"
   ]
  },
  {
   "cell_type": "code",
   "execution_count": 44,
   "id": "6dc35de6",
   "metadata": {},
   "outputs": [
    {
     "data": {
      "text/plain": [
       "{1: 8, 2: 1, 6: 2, 3: 0, 5: 1, 4: 1, 7: 0}"
      ]
     },
     "execution_count": 44,
     "metadata": {},
     "output_type": "execute_result"
    }
   ],
   "source": [
    "d"
   ]
  },
  {
   "cell_type": "code",
   "execution_count": null,
   "id": "b1e8ed74",
   "metadata": {},
   "outputs": [],
   "source": [
    "l=[1,2,2,1,3,4,1,2]\n",
    "\n",
    "output=[1,'one',2,2,1,'one',3,4,1,'one',2]"
   ]
  },
  {
   "cell_type": "code",
   "execution_count": null,
   "id": "ddccb8fb",
   "metadata": {},
   "outputs": [],
   "source": []
  },
  {
   "cell_type": "raw",
   "id": "0bc4b41e",
   "metadata": {},
   "source": [
    "'abc'\n",
    "\n",
    "output:\n",
    "\n",
    "abc\n",
    "acb\n",
    "bac\n",
    "bca\n",
    "cba"
   ]
  },
  {
   "cell_type": "code",
   "execution_count": 49,
   "id": "f99e01a9",
   "metadata": {},
   "outputs": [],
   "source": [
    "import itertools"
   ]
  },
  {
   "cell_type": "code",
   "execution_count": 50,
   "id": "6915203c",
   "metadata": {},
   "outputs": [
    {
     "data": {
      "text/plain": [
       "['__doc__',\n",
       " '__loader__',\n",
       " '__name__',\n",
       " '__package__',\n",
       " '__spec__',\n",
       " '_grouper',\n",
       " '_tee',\n",
       " '_tee_dataobject',\n",
       " 'accumulate',\n",
       " 'chain',\n",
       " 'combinations',\n",
       " 'combinations_with_replacement',\n",
       " 'compress',\n",
       " 'count',\n",
       " 'cycle',\n",
       " 'dropwhile',\n",
       " 'filterfalse',\n",
       " 'groupby',\n",
       " 'islice',\n",
       " 'permutations',\n",
       " 'product',\n",
       " 'repeat',\n",
       " 'starmap',\n",
       " 'takewhile',\n",
       " 'tee',\n",
       " 'zip_longest']"
      ]
     },
     "execution_count": 50,
     "metadata": {},
     "output_type": "execute_result"
    }
   ],
   "source": [
    "dir(itertools)"
   ]
  },
  {
   "cell_type": "code",
   "execution_count": 52,
   "id": "32b087d3",
   "metadata": {},
   "outputs": [
    {
     "data": {
      "text/plain": [
       "<itertools.permutations at 0x22715e9acc0>"
      ]
     },
     "execution_count": 52,
     "metadata": {},
     "output_type": "execute_result"
    }
   ],
   "source": [
    "itertools.permutations('abc')"
   ]
  },
  {
   "cell_type": "code",
   "execution_count": null,
   "id": "65065ea1",
   "metadata": {},
   "outputs": [],
   "source": []
  }
 ],
 "metadata": {
  "kernelspec": {
   "display_name": "Python 3 (ipykernel)",
   "language": "python",
   "name": "python3"
  },
  "language_info": {
   "codemirror_mode": {
    "name": "ipython",
    "version": 3
   },
   "file_extension": ".py",
   "mimetype": "text/x-python",
   "name": "python",
   "nbconvert_exporter": "python",
   "pygments_lexer": "ipython3",
   "version": "3.9.13"
  }
 },
 "nbformat": 4,
 "nbformat_minor": 5
}
