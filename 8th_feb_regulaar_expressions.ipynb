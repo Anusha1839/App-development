{
  "nbformat": 4,
  "nbformat_minor": 0,
  "metadata": {
    "colab": {
      "provenance": []
    },
    "kernelspec": {
      "name": "python3",
      "display_name": "Python 3"
    },
    "language_info": {
      "name": "python"
    }
  },
  "cells": [
    {
      "cell_type": "code",
      "execution_count": 1,
      "metadata": {
        "colab": {
          "base_uri": "https://localhost:8080/"
        },
        "id": "VJ6crO9wRClq",
        "outputId": "f5aa16af-01fd-4b0c-cbb8-49661f28d615"
      },
      "outputs": [
        {
          "output_type": "stream",
          "name": "stdout",
          "text": [
            "iam going for learning nlp\n"
          ]
        }
      ],
      "source": [
        "print(\"iam going for learning nlp\")"
      ]
    },
    {
      "cell_type": "markdown",
      "source": [
        "##next line(\\n)"
      ],
      "metadata": {
        "id": "JfzFqVnpR_Fa"
      }
    },
    {
      "cell_type": "code",
      "source": [
        "print(\"iam going college for \\nlearning nlp\")"
      ],
      "metadata": {
        "colab": {
          "base_uri": "https://localhost:8080/"
        },
        "id": "eNtB7bpHRHRm",
        "outputId": "0ad36315-ae22-4c1c-851c-82f0c6540eeb"
      },
      "execution_count": 2,
      "outputs": [
        {
          "output_type": "stream",
          "name": "stdout",
          "text": [
            "iam going college for \n",
            "learning nlp\n"
          ]
        }
      ]
    },
    {
      "cell_type": "code",
      "source": [
        "print(\"iam going \\ncollege for \\nlearning nlp\")"
      ],
      "metadata": {
        "colab": {
          "base_uri": "https://localhost:8080/"
        },
        "id": "CGw1ho13RNdH",
        "outputId": "6c534742-232a-4fbd-9dbf-42bc9101ff6a"
      },
      "execution_count": 3,
      "outputs": [
        {
          "output_type": "stream",
          "name": "stdout",
          "text": [
            "iam going \n",
            "college for \n",
            "learning nlp\n"
          ]
        }
      ]
    },
    {
      "cell_type": "markdown",
      "source": [
        "##space(\\t)"
      ],
      "metadata": {
        "id": "ir4ilRbYR6EO"
      }
    },
    {
      "cell_type": "code",
      "source": [
        "print(\"iam going \\ncollege for \\tlearning nlp\")"
      ],
      "metadata": {
        "colab": {
          "base_uri": "https://localhost:8080/"
        },
        "id": "j_EC7O1DRTTI",
        "outputId": "a696b8a5-07eb-4801-ea76-69fe26b84acd"
      },
      "execution_count": 4,
      "outputs": [
        {
          "output_type": "stream",
          "name": "stdout",
          "text": [
            "iam going \n",
            "college for \tlearning nlp\n"
          ]
        }
      ]
    },
    {
      "cell_type": "markdown",
      "source": [
        "##carriage return(\\r)"
      ],
      "metadata": {
        "id": "9pUJnWInSFFT"
      }
    },
    {
      "cell_type": "code",
      "source": [
        "print(\"i am going for\\rlearning nlp\")"
      ],
      "metadata": {
        "colab": {
          "base_uri": "https://localhost:8080/"
        },
        "id": "HSm3J9-OR3iH",
        "outputId": "b827c99f-8e42-4ca7-d3c3-ad22a79aaf9e"
      },
      "execution_count": 6,
      "outputs": [
        {
          "output_type": "stream",
          "name": "stdout",
          "text": [
            "i am going for\rlearning nlp\n"
          ]
        }
      ]
    },
    {
      "cell_type": "code",
      "source": [],
      "metadata": {
        "id": "WsDBWV2gSYEh"
      },
      "execution_count": null,
      "outputs": []
    },
    {
      "cell_type": "markdown",
      "source": [
        "##**2.Special Sequencs**\n",
        "#\\d : Matches any digit(0-9).\n",
        "#\\D : Matches any non-digiyt character.\n",
        "#\\w : Matches any alphanumeric character plus\n",
        "#\\s:\n",
        "#\\S:"
      ],
      "metadata": {
        "id": "cHh2VWPsS0D6"
      }
    },
    {
      "cell_type": "code",
      "source": [],
      "metadata": {
        "id": "PPUc7rrETkAk"
      },
      "execution_count": null,
      "outputs": []
    },
    {
      "cell_type": "markdown",
      "source": [
        "##re.match()"
      ],
      "metadata": {
        "id": "tsYhfcTJTnCs"
      }
    },
    {
      "cell_type": "code",
      "source": [
        "import re"
      ],
      "metadata": {
        "id": "w4QB1CDQUHX6"
      },
      "execution_count": 9,
      "outputs": []
    },
    {
      "cell_type": "code",
      "source": [
        "string=\"007 james bond wants to learn the python\"\n",
        "pattern =r'\\d+'\n",
        "matching =re.match(pattern,string)\n",
        "matching.group()"
      ],
      "metadata": {
        "colab": {
          "base_uri": "https://localhost:8080/",
          "height": 35
        },
        "id": "EzRS75_JTqgs",
        "outputId": "8f09ef32-cfe4-469c-9153-51bdfba64991"
      },
      "execution_count": 10,
      "outputs": [
        {
          "output_type": "execute_result",
          "data": {
            "text/plain": [
              "'007'"
            ],
            "application/vnd.google.colaboratory.intrinsic+json": {
              "type": "string"
            }
          },
          "metadata": {},
          "execution_count": 10
        }
      ]
    },
    {
      "cell_type": "code",
      "source": [
        "string=\" james bond wants to 007 learn the python\"\n",
        "pattern =r'\\d+'\n",
        "matching =re.match(pattern,string)\n",
        "matching.group()"
      ],
      "metadata": {
        "colab": {
          "base_uri": "https://localhost:8080/",
          "height": 176
        },
        "id": "sbLVOVJRT-T7",
        "outputId": "4c8fef48-a08b-4d74-bea4-141e447077e7"
      },
      "execution_count": 11,
      "outputs": [
        {
          "output_type": "error",
          "ename": "AttributeError",
          "evalue": "'NoneType' object has no attribute 'group'",
          "traceback": [
            "\u001b[0;31m---------------------------------------------------------------------------\u001b[0m",
            "\u001b[0;31mAttributeError\u001b[0m                            Traceback (most recent call last)",
            "\u001b[0;32m<ipython-input-11-975fc9b00c7d>\u001b[0m in \u001b[0;36m<cell line: 0>\u001b[0;34m()\u001b[0m\n\u001b[1;32m      2\u001b[0m \u001b[0mpattern\u001b[0m \u001b[0;34m=\u001b[0m\u001b[0;34mr'\\d+'\u001b[0m\u001b[0;34m\u001b[0m\u001b[0;34m\u001b[0m\u001b[0m\n\u001b[1;32m      3\u001b[0m \u001b[0mmatching\u001b[0m \u001b[0;34m=\u001b[0m\u001b[0mre\u001b[0m\u001b[0;34m.\u001b[0m\u001b[0mmatch\u001b[0m\u001b[0;34m(\u001b[0m\u001b[0mpattern\u001b[0m\u001b[0;34m,\u001b[0m\u001b[0mstring\u001b[0m\u001b[0;34m)\u001b[0m\u001b[0;34m\u001b[0m\u001b[0;34m\u001b[0m\u001b[0m\n\u001b[0;32m----> 4\u001b[0;31m \u001b[0mmatching\u001b[0m\u001b[0;34m.\u001b[0m\u001b[0mgroup\u001b[0m\u001b[0;34m(\u001b[0m\u001b[0;34m)\u001b[0m\u001b[0;34m\u001b[0m\u001b[0;34m\u001b[0m\u001b[0m\n\u001b[0m",
            "\u001b[0;31mAttributeError\u001b[0m: 'NoneType' object has no attribute 'group'"
          ]
        }
      ]
    },
    {
      "cell_type": "markdown",
      "source": [
        "##re.search()"
      ],
      "metadata": {
        "id": "lhgOFUu8UmeT"
      }
    },
    {
      "cell_type": "code",
      "source": [
        "import re\n",
        "pattern=r'\\d+'\n",
        "string=\"james bond 007 wants 008 to learn the python\"\n",
        "matching=re.search(pattern,string)\n",
        "matching.group()"
      ],
      "metadata": {
        "colab": {
          "base_uri": "https://localhost:8080/",
          "height": 35
        },
        "id": "M0g3uNOqUklo",
        "outputId": "3f646206-00f3-444a-cc7d-2ecd083cd24a"
      },
      "execution_count": 12,
      "outputs": [
        {
          "output_type": "execute_result",
          "data": {
            "text/plain": [
              "'007'"
            ],
            "application/vnd.google.colaboratory.intrinsic+json": {
              "type": "string"
            }
          },
          "metadata": {},
          "execution_count": 12
        }
      ]
    },
    {
      "cell_type": "markdown",
      "source": [
        "##re.findall()"
      ],
      "metadata": {
        "id": "am6OonYhVpoN"
      }
    },
    {
      "cell_type": "code",
      "source": [
        "import re\n",
        "pattern=r'\\d+'\n",
        "string=\"james bond 007 wants 008 to learn123 the python\"\n",
        "matching=re.findall(pattern,string)\n",
        "matching"
      ],
      "metadata": {
        "colab": {
          "base_uri": "https://localhost:8080/"
        },
        "id": "RBb8ehvnUki1",
        "outputId": "2425c3f6-303c-4c95-cae8-5a580eb59596"
      },
      "execution_count": 19,
      "outputs": [
        {
          "output_type": "execute_result",
          "data": {
            "text/plain": [
              "['007', '008', '123']"
            ]
          },
          "metadata": {},
          "execution_count": 19
        }
      ]
    },
    {
      "cell_type": "markdown",
      "source": [
        "#re.sub()"
      ],
      "metadata": {
        "id": "A7S9bmECWxGP"
      }
    },
    {
      "cell_type": "code",
      "source": [
        "import re\n",
        "pattern=r'\\d'\n",
        "string=\"james bond 007 wants 008 to learn123 the python\"\n",
        "matching=re.sub(pattern,'#',string)\n",
        "matching"
      ],
      "metadata": {
        "colab": {
          "base_uri": "https://localhost:8080/",
          "height": 35
        },
        "id": "22ukcZhUUkf9",
        "outputId": "62db6901-1739-4db1-debd-524e828adc6b"
      },
      "execution_count": 22,
      "outputs": [
        {
          "output_type": "execute_result",
          "data": {
            "text/plain": [
              "'james bond ### wants ### to learn### the python'"
            ],
            "application/vnd.google.colaboratory.intrinsic+json": {
              "type": "string"
            }
          },
          "metadata": {},
          "execution_count": 22
        }
      ]
    },
    {
      "cell_type": "code",
      "source": [],
      "metadata": {
        "id": "qsyktJBAXAWs"
      },
      "execution_count": null,
      "outputs": []
    },
    {
      "cell_type": "markdown",
      "source": [
        "Problem: NLP Text Cleaning and Extraction\n",
        "\n",
        "You are tasked with cleaning a text dataset to prepare it for NLP tasks. Your goal is to:\n",
        "\n",
        "Extract all email addresses from the text. Remove all numbers (to prevent numeric features from skewing the NLP analysis). Extract all hashtags (for sentiment analysis and trending topics). Normalize whitespace to ensure there's no extra spaces between words. Remove any HTML tags that may be included in the text (from web scraping)."
      ],
      "metadata": {
        "id": "2rXYBIqaX9W2"
      }
    },
    {
      "cell_type": "markdown",
      "source": [
        "# Test case\n",
        "text = \"\"\"\n",
        "Hello world! Contact us at info@example.com or support123@company.org. Follow us on social media: #AI #MachineLearning.\n",
        "Visit <a href=\"http://example.com\">our website</a> for more details. This is a test with number 1234.\n",
        "\"\"\""
      ],
      "metadata": {
        "id": "D73sUpv2X6TN"
      }
    },
    {
      "cell_type": "code",
      "source": [
        "text = \"\"\" Hello world! Contact us at info@example.com or support123@company.org. Follow us on social media: #AI #MachineLearning. Visit our website for more details. This is a test with number 1234. \"\"\""
      ],
      "metadata": {
        "id": "_xzeI58KaDCB"
      },
      "execution_count": 24,
      "outputs": []
    },
    {
      "cell_type": "code",
      "source": [
        "\n",
        "pattern=r'[a-zA-Z0-9._%+-]+@[a-zA-Z0-9.-]+\\.[a-zA-Z]{2,}'\n",
        "emails=re.findall(pattern,text)\n",
        "emails"
      ],
      "metadata": {
        "colab": {
          "base_uri": "https://localhost:8080/"
        },
        "id": "3bCykOLWYugt",
        "outputId": "21deec97-d94f-4843-a1f1-0355bfae842f"
      },
      "execution_count": 25,
      "outputs": [
        {
          "output_type": "execute_result",
          "data": {
            "text/plain": [
              "['info@example.com', 'support123@company.org']"
            ]
          },
          "metadata": {},
          "execution_count": 25
        }
      ]
    },
    {
      "cell_type": "code",
      "source": [
        "hash_tags=re.findall(r'#\\w+',text)\n",
        "hash_tags"
      ],
      "metadata": {
        "colab": {
          "base_uri": "https://localhost:8080/"
        },
        "id": "mo4_27PVYCYe",
        "outputId": "2c522101-86a3-424b-b595-0d6f71c9a0ad"
      },
      "execution_count": 26,
      "outputs": [
        {
          "output_type": "execute_result",
          "data": {
            "text/plain": [
              "['#AI', '#MachineLearning']"
            ]
          },
          "metadata": {},
          "execution_count": 26
        }
      ]
    },
    {
      "cell_type": "code",
      "source": [],
      "metadata": {
        "id": "hl2QQy2nYCWA"
      },
      "execution_count": null,
      "outputs": []
    },
    {
      "cell_type": "code",
      "source": [],
      "metadata": {
        "id": "TOPOSSyeYCTe"
      },
      "execution_count": null,
      "outputs": []
    },
    {
      "cell_type": "code",
      "source": [],
      "metadata": {
        "id": "1o9-Oog4XAMc"
      },
      "execution_count": null,
      "outputs": []
    },
    {
      "cell_type": "code",
      "source": [],
      "metadata": {
        "id": "ICJpKMgrXAJF"
      },
      "execution_count": null,
      "outputs": []
    },
    {
      "cell_type": "code",
      "source": [],
      "metadata": {
        "id": "f5vXrYypXAFe"
      },
      "execution_count": null,
      "outputs": []
    },
    {
      "cell_type": "code",
      "source": [],
      "metadata": {
        "id": "7Hb9QNsSUkdP"
      },
      "execution_count": null,
      "outputs": []
    },
    {
      "cell_type": "code",
      "source": [],
      "metadata": {
        "id": "ImKv1A_9Ukae"
      },
      "execution_count": null,
      "outputs": []
    },
    {
      "cell_type": "code",
      "source": [],
      "metadata": {
        "id": "PVJfrVARUkHM"
      },
      "execution_count": null,
      "outputs": []
    }
  ]
}